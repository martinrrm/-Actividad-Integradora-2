{
 "cells": [
  {
   "cell_type": "code",
   "execution_count": 16,
   "metadata": {},
   "outputs": [],
   "source": [
    "import pandas as pd\n",
    "import numpy as np\n",
    "from selenium import webdriver\n",
    "from selenium.webdriver.common.keys import Keys\n",
    "import os\n",
    "import urllib\n",
    "import cv2\n",
    "import time"
   ]
  },
  {
   "cell_type": "code",
   "execution_count": 17,
   "metadata": {},
   "outputs": [],
   "source": [
    "def create_directory(name:str,path=''):\n",
    "    try:\n",
    "        os.mkdir(path+name)\n",
    "    except OSError:\n",
    "        print (\"Creation of the directory %s failed\" % name)\n",
    "    else:\n",
    "        print (\"Successfully created the directory %s \" % name)\n",
    "        \n",
    "def url_to_image(url):\n",
    "    # download the image, convert it to a NumPy array, and then read\n",
    "    # it into OpenCV format\n",
    "    \n",
    "    resp = urllib.request.urlopen(url)\n",
    "    image = np.asarray(bytearray(resp.read()), dtype=\"uint8\")\n",
    "    image = cv2.imdecode(image, cv2.IMREAD_COLOR)\n",
    "    # return the image\n",
    "    return image\n",
    "\n",
    "def save_images(imgs:list,path=''):\n",
    "    \n",
    "    for img,cont in zip(imgs,range(len(imgs))):\n",
    "        if img.all() != None:\n",
    "            cv2.imwrite(path+str(cont)+'.jpg',img)\n",
    "                        "
   ]
  },
  {
   "cell_type": "code",
   "execution_count": 18,
   "metadata": {},
   "outputs": [],
   "source": [
    "page_url = 'https://www.shutterstock.com'\n",
    "driver = webdriver.Chrome()\n",
    "driver.implicitly_wait(10)\n",
    "driver.get(page_url)\n",
    "search_bar = driver.find_element_by_xpath(\"//input[@data-automation='Searchbar_searchInput_input']\")\n",
    "submit_button = driver.find_element_by_xpath(\"//button[@data-automation='SearchBar_search_iconButton']\")"
   ]
  },
  {
   "cell_type": "code",
   "execution_count": 19,
   "metadata": {},
   "outputs": [
    {
     "name": "stdout",
     "output_type": "stream",
     "text": [
      "dog\n",
      "Creation of the directory train failed\n",
      "Creation of the directory test failed\n",
      "Creation of the directory train/dog failed\n",
      "Creation of the directory test/dog failed\n"
     ]
    }
   ],
   "source": [
    "search_name = input()\n",
    "\n",
    "create_directory('train')\n",
    "create_directory('test')\n",
    "\n",
    "create_directory(f'train/{search_name}')\n",
    "create_directory(f'test/{search_name}')\n"
   ]
  },
  {
   "cell_type": "code",
   "execution_count": 20,
   "metadata": {},
   "outputs": [],
   "source": [
    "search_bar.send_keys(search_name)\n",
    "submit_button.click()"
   ]
  },
  {
   "cell_type": "code",
   "execution_count": 21,
   "metadata": {
    "scrolled": true
   },
   "outputs": [],
   "source": [
    "n_pages = 10\n",
    "driver.execute_script(\"window.scrollTo(0,document.body.scrollHeight)\")\n",
    "next_button = driver.find_element_by_xpath(\"//a[@data-automation='BottomNav_NextButton']\")\n",
    "images_urls = []\n",
    "for _ in range(n_pages):\n",
    "    \n",
    "    driver.execute_script(\"window.scrollTo(0,document.body.scrollHeight)\")\n",
    "    images = driver.find_elements_by_xpath(\"//img[@data-automation='mosaic-grid-cell-image']\")\n",
    "    images_urls += [img.get_attribute('src') for img in images]\n",
    "    next_button.click()\n",
    "    time.sleep(5)"
   ]
  },
  {
   "cell_type": "code",
   "execution_count": 22,
   "metadata": {},
   "outputs": [
    {
     "name": "stdout",
     "output_type": "stream",
     "text": [
      "['https://image.shutterstock.com/image-vector/vector-illustration-set-beagle-dog-260nw-1703764273.jpg', 'https://image.shutterstock.com/image-photo/row-tops-heads-cats-dogs-260nw-1034939470.jpg', 'https://image.shutterstock.com/image-photo/cropped-image-handsome-young-man-260nw-708732331.jpg', 'https://image.shutterstock.com/image-photo/funny-studio-portrait-cute-smilling-260nw-1666645747.jpg', 'https://image.shutterstock.com/image-photo/funny-studio-portrait-smilling-puppy-260nw-1008869716.jpg', 'https://image.shutterstock.com/image-vector/dogs-collection-vector-illustration-funny-260nw-740988544.jpg', 'https://image.shutterstock.com/image-photo/dog-260nw-587562362.jpg', 'https://image.shutterstock.com/image-photo/pure-youth-crazy-english-cocker-260nw-1424153078.jpg', 'https://image.shutterstock.com/image-photo/funny-chihuahua-dog-posing-on-260nw-1081879181.jpg', 'https://image.shutterstock.com/image-photo/cute-happy-dog-headshot-smiling-260nw-324936848.jpg', 'https://image.shutterstock.com/image-photo/dog-travel-by-car-nova-260nw-1420663709.jpg', 'https://image.shutterstock.com/image-photo/australian-shepherd-playing-outdoors-sunset-260nw-1707173203.jpg', 'https://image.shutterstock.com/image-photo/funny-studio-portrait-cute-smilling-260nw-1572253210.jpg', 'https://image.shutterstock.com/image-photo/border-collie-portrait-city-260nw-1729449226.jpg', 'https://image.shutterstock.com/image-photo/funny-portrait-cute-puppy-on-260nw-1717624438.jpg', 'https://image.shutterstock.com/image-photo/amazing-portrait-young-crossbreed-dog-260nw-706603864.jpg', 'https://image.shutterstock.com/image-photo/young-dogs-jumping-playing-flying-260nw-1715333542.jpg', 'https://image.shutterstock.com/image-photo/different-dogs-looking-isolated-on-260nw-746994946.jpg', 'https://image.shutterstock.com/image-photo/dog-playing-outside-smiles-260nw-231023848.jpg', 'https://image.shutterstock.com/image-vector/cute-funny-cartoon-dogs-vector-260nw-577034689.jpg', None, None, None, None, None, None, None, None, None, None, None, None, None, None, None, None, None, None, None, None, None, None, None, None, None, None, None, None, None, None, None, None, None, None, None, None, None, None, None, None, None, None, None, 'https://image.shutterstock.com/image-photo/cat-dog-sleeping-together-kitten-260nw-1479239243.jpg', 'https://image.shutterstock.com/image-photo/happy-smiling-young-golden-retriever-260nw-1212373009.jpg', 'https://image.shutterstock.com/image-photo/portrait-amazement-siberian-husky-dog-260nw-599221973.jpg', 'https://image.shutterstock.com/image-photo/dog-leather-leash-waiting-go-260nw-164733143.jpg', 'https://image.shutterstock.com/image-photo/cat-dog-looking-camera-on-260nw-778270354.jpg', 'https://image.shutterstock.com/image-photo/funny-portrait-welsh-corgi-pembroke-260nw-1569883195.jpg', 'https://image.shutterstock.com/image-vector/dog-love-260nw-613309193.jpg', 'https://image.shutterstock.com/image-photo/studio-shot-adorable-border-collie-260nw-777196276.jpg', 'https://image.shutterstock.com/image-photo/website-banner-happy-dog-puppy-260nw-531343426.jpg', 'https://image.shutterstock.com/image-vector/happy-dog-playing-ball-black-260nw-1257537397.jpg', 'https://image.shutterstock.com/image-photo/portrait-woman-dog-260nw-524212318.jpg', 'https://image.shutterstock.com/image-photo/golden-retrievers-british-shorthair-260nw-507810382.jpg', 'https://image.shutterstock.com/image-photo/cute-dalmatian-dog-holding-yellow-260nw-1007844466.jpg', 'https://image.shutterstock.com/image-vector/different-type-vector-cartoon-cats-260nw-1694566498.jpg', 'https://image.shutterstock.com/image-photo/dog-eating-food-bowl-puppy-260nw-1138037996.jpg', 'https://image.shutterstock.com/image-vector/set-creating-dog-animation-emotions-260nw-744646942.jpg', 'https://image.shutterstock.com/image-photo/golden-retriever-looking-out-car-260nw-407893192.jpg', 'https://image.shutterstock.com/image-photo/woman-wearing-protective-mask-walking-260nw-1677729994.jpg', 'https://image.shutterstock.com/image-photo/happy-young-man-holding-dog-260nw-582115876.jpg', 'https://image.shutterstock.com/image-photo/cute-dog-cat-together-on-260nw-534245917.jpg', 'https://image.shutterstock.com/image-photo/dogs-isolated-on-white-260nw-333646538.jpg', 'https://image.shutterstock.com/image-photo/couple-dogs-love-sleeping-together-260nw-777863431.jpg', 'https://image.shutterstock.com/image-photo/border-collie-plays-beach-260nw-759950959.jpg', 'https://image.shutterstock.com/image-vector/different-dog-breeds-mixed-set-260nw-1125819194.jpg', 'https://image.shutterstock.com/image-photo/funny-happy-dogs-cats-peeking-260nw-1405890710.jpg', 'https://image.shutterstock.com/image-vector/funny-puppy-daily-routine-set-260nw-689446207.jpg', 'https://image.shutterstock.com/image-photo/dog-cat-under-plaid-pet-260nw-726710023.jpg', 'https://image.shutterstock.com/image-vector/dog-paw-isolated-bone-seamless-260nw-1021326958.jpg', 'https://image.shutterstock.com/image-photo/smiling-dog-260nw-619328294.jpg', 'https://image.shutterstock.com/image-photo/happy-german-shepherd-mix-breed-260nw-295505126.jpg', 'https://image.shutterstock.com/image-vector/dog-smile-face-paw-heart-260nw-743725138.jpg', 'https://image.shutterstock.com/image-photo/cute-little-yorkie-dog-towel-260nw-1154247457.jpg', 'https://image.shutterstock.com/image-photo/british-cat-golden-retriever-260nw-646123120.jpg', 'https://image.shutterstock.com/image-photo/adorable-red-abricot-labradoodle-dog-260nw-1610553859.jpg', 'https://image.shutterstock.com/image-photo/australian-shepherd-dog-studio-on-260nw-683935354.jpg', 'https://image.shutterstock.com/image-photo/studio-portrait-dog-on-white-260nw-145967153.jpg', 'https://image.shutterstock.com/image-photo/traveling-dog-nova-scotia-duck-260nw-1564902472.jpg', 'https://image.shutterstock.com/image-photo/beautiful-dalmation-dog-on-colored-260nw-1153615540.jpg', 'https://image.shutterstock.com/image-photo/hungry-jack-russell-dog-behind-260nw-529157980.jpg', 'https://image.shutterstock.com/image-photo/stylish-scandinavian-living-room-interior-260nw-1489795766.jpg', 'https://image.shutterstock.com/image-photo/adorable-welsh-springer-spaniel-dog-260nw-1823409425.jpg', 'https://image.shutterstock.com/image-vector/different-type-cartoon-dogs-260nw-514879789.jpg']\n",
      "https://image.shutterstock.com/image-vector/vector-illustration-set-beagle-dog-260nw-1703764273.jpg\n",
      "https://image.shutterstock.com/image-photo/row-tops-heads-cats-dogs-260nw-1034939470.jpg\n",
      "https://image.shutterstock.com/image-photo/cropped-image-handsome-young-man-260nw-708732331.jpg\n",
      "https://image.shutterstock.com/image-photo/funny-studio-portrait-cute-smilling-260nw-1666645747.jpg\n",
      "https://image.shutterstock.com/image-photo/funny-studio-portrait-smilling-puppy-260nw-1008869716.jpg\n",
      "https://image.shutterstock.com/image-vector/dogs-collection-vector-illustration-funny-260nw-740988544.jpg\n",
      "https://image.shutterstock.com/image-photo/dog-260nw-587562362.jpg\n",
      "https://image.shutterstock.com/image-photo/pure-youth-crazy-english-cocker-260nw-1424153078.jpg\n",
      "https://image.shutterstock.com/image-photo/funny-chihuahua-dog-posing-on-260nw-1081879181.jpg\n",
      "https://image.shutterstock.com/image-photo/cute-happy-dog-headshot-smiling-260nw-324936848.jpg\n",
      "https://image.shutterstock.com/image-photo/dog-travel-by-car-nova-260nw-1420663709.jpg\n",
      "https://image.shutterstock.com/image-photo/australian-shepherd-playing-outdoors-sunset-260nw-1707173203.jpg\n",
      "https://image.shutterstock.com/image-photo/funny-studio-portrait-cute-smilling-260nw-1572253210.jpg\n",
      "https://image.shutterstock.com/image-photo/border-collie-portrait-city-260nw-1729449226.jpg\n",
      "https://image.shutterstock.com/image-photo/funny-portrait-cute-puppy-on-260nw-1717624438.jpg\n",
      "https://image.shutterstock.com/image-photo/amazing-portrait-young-crossbreed-dog-260nw-706603864.jpg\n",
      "https://image.shutterstock.com/image-photo/young-dogs-jumping-playing-flying-260nw-1715333542.jpg\n",
      "https://image.shutterstock.com/image-photo/different-dogs-looking-isolated-on-260nw-746994946.jpg\n",
      "https://image.shutterstock.com/image-photo/dog-playing-outside-smiles-260nw-231023848.jpg\n",
      "https://image.shutterstock.com/image-vector/cute-funny-cartoon-dogs-vector-260nw-577034689.jpg\n"
     ]
    },
    {
     "name": "stdout",
     "output_type": "stream",
     "text": [
      "https://image.shutterstock.com/image-photo/cat-dog-sleeping-together-kitten-260nw-1479239243.jpg\n",
      "https://image.shutterstock.com/image-photo/happy-smiling-young-golden-retriever-260nw-1212373009.jpg\n",
      "https://image.shutterstock.com/image-photo/portrait-amazement-siberian-husky-dog-260nw-599221973.jpg\n",
      "https://image.shutterstock.com/image-photo/dog-leather-leash-waiting-go-260nw-164733143.jpg\n",
      "https://image.shutterstock.com/image-photo/cat-dog-looking-camera-on-260nw-778270354.jpg\n",
      "https://image.shutterstock.com/image-photo/funny-portrait-welsh-corgi-pembroke-260nw-1569883195.jpg\n",
      "https://image.shutterstock.com/image-vector/dog-love-260nw-613309193.jpg\n",
      "https://image.shutterstock.com/image-photo/studio-shot-adorable-border-collie-260nw-777196276.jpg\n",
      "https://image.shutterstock.com/image-photo/website-banner-happy-dog-puppy-260nw-531343426.jpg\n",
      "https://image.shutterstock.com/image-vector/happy-dog-playing-ball-black-260nw-1257537397.jpg\n",
      "https://image.shutterstock.com/image-photo/portrait-woman-dog-260nw-524212318.jpg\n",
      "https://image.shutterstock.com/image-photo/golden-retrievers-british-shorthair-260nw-507810382.jpg\n",
      "https://image.shutterstock.com/image-photo/cute-dalmatian-dog-holding-yellow-260nw-1007844466.jpg\n",
      "https://image.shutterstock.com/image-vector/different-type-vector-cartoon-cats-260nw-1694566498.jpg\n",
      "https://image.shutterstock.com/image-photo/dog-eating-food-bowl-puppy-260nw-1138037996.jpg\n",
      "https://image.shutterstock.com/image-vector/set-creating-dog-animation-emotions-260nw-744646942.jpg\n",
      "https://image.shutterstock.com/image-photo/golden-retriever-looking-out-car-260nw-407893192.jpg\n",
      "https://image.shutterstock.com/image-photo/woman-wearing-protective-mask-walking-260nw-1677729994.jpg\n",
      "https://image.shutterstock.com/image-photo/happy-young-man-holding-dog-260nw-582115876.jpg\n",
      "https://image.shutterstock.com/image-photo/cute-dog-cat-together-on-260nw-534245917.jpg\n",
      "https://image.shutterstock.com/image-photo/dogs-isolated-on-white-260nw-333646538.jpg\n",
      "https://image.shutterstock.com/image-photo/couple-dogs-love-sleeping-together-260nw-777863431.jpg\n",
      "https://image.shutterstock.com/image-photo/border-collie-plays-beach-260nw-759950959.jpg\n",
      "https://image.shutterstock.com/image-vector/different-dog-breeds-mixed-set-260nw-1125819194.jpg\n",
      "https://image.shutterstock.com/image-photo/funny-happy-dogs-cats-peeking-260nw-1405890710.jpg\n",
      "https://image.shutterstock.com/image-vector/funny-puppy-daily-routine-set-260nw-689446207.jpg\n",
      "https://image.shutterstock.com/image-photo/dog-cat-under-plaid-pet-260nw-726710023.jpg\n",
      "https://image.shutterstock.com/image-vector/dog-paw-isolated-bone-seamless-260nw-1021326958.jpg\n",
      "https://image.shutterstock.com/image-photo/smiling-dog-260nw-619328294.jpg\n",
      "https://image.shutterstock.com/image-photo/happy-german-shepherd-mix-breed-260nw-295505126.jpg\n",
      "https://image.shutterstock.com/image-vector/dog-smile-face-paw-heart-260nw-743725138.jpg\n",
      "https://image.shutterstock.com/image-photo/cute-little-yorkie-dog-towel-260nw-1154247457.jpg\n",
      "https://image.shutterstock.com/image-photo/british-cat-golden-retriever-260nw-646123120.jpg\n",
      "https://image.shutterstock.com/image-photo/adorable-red-abricot-labradoodle-dog-260nw-1610553859.jpg\n",
      "https://image.shutterstock.com/image-photo/australian-shepherd-dog-studio-on-260nw-683935354.jpg\n",
      "https://image.shutterstock.com/image-photo/studio-portrait-dog-on-white-260nw-145967153.jpg\n",
      "https://image.shutterstock.com/image-photo/traveling-dog-nova-scotia-duck-260nw-1564902472.jpg\n",
      "https://image.shutterstock.com/image-photo/beautiful-dalmation-dog-on-colored-260nw-1153615540.jpg\n",
      "https://image.shutterstock.com/image-photo/hungry-jack-russell-dog-behind-260nw-529157980.jpg\n",
      "https://image.shutterstock.com/image-photo/stylish-scandinavian-living-room-interior-260nw-1489795766.jpg\n",
      "https://image.shutterstock.com/image-photo/adorable-welsh-springer-spaniel-dog-260nw-1823409425.jpg\n",
      "https://image.shutterstock.com/image-vector/different-type-cartoon-dogs-260nw-514879789.jpg\n"
     ]
    }
   ],
   "source": [
    "np_images = []\n",
    "print(images_urls)\n",
    "for img in images_urls:\n",
    "    if img != None:\n",
    "        np_images.append(url_to_image(img))\n",
    "        print(img)\n",
    "        \n",
    "train_n = int(len(np_images) * 0.8)\n",
    "train_imgs = np_images[:train_n]\n",
    "test_imgs = np_images[train_n:]\n"
   ]
  },
  {
   "cell_type": "code",
   "execution_count": 23,
   "metadata": {},
   "outputs": [],
   "source": [
    "save_images(train_imgs,f'train/{search_name}/')\n",
    "save_images(test_imgs,f'test/{search_name}/')"
   ]
  }
 ],
 "metadata": {
  "kernelspec": {
   "display_name": "Python 3",
   "language": "python",
   "name": "python3"
  },
  "language_info": {
   "codemirror_mode": {
    "name": "ipython",
    "version": 3
   },
   "file_extension": ".py",
   "mimetype": "text/x-python",
   "name": "python",
   "nbconvert_exporter": "python",
   "pygments_lexer": "ipython3",
   "version": "3.8.5"
  }
 },
 "nbformat": 4,
 "nbformat_minor": 4
}
